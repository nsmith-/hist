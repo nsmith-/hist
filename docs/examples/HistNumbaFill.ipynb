{
 "cells": [
  {
   "cell_type": "markdown",
   "metadata": {},
   "source": [
    "# Hist Design Prototype"
   ]
  },
  {
   "cell_type": "markdown",
   "metadata": {},
   "source": [
    "This is `fill` method in python loop:"
   ]
  },
  {
   "cell_type": "code",
   "execution_count": null,
   "metadata": {},
   "outputs": [],
   "source": [
    "import numpy as np\n",
    "import numba as nb\n",
    "from hist import Hist\n",
    "from hist import axis\n",
    "\n",
    "# assets\n",
    "array = np.random.randn(\n",
    "    10000,\n",
    ")\n",
    "h = Hist.new.Reg(100, -3, 3, name=\"x\", label=\"x-axis\").Double()"
   ]
  },
  {
   "cell_type": "code",
   "execution_count": null,
   "metadata": {},
   "outputs": [],
   "source": [
    "# python fill\n",
    "h.fill(array)\n",
    "h"
   ]
  },
  {
   "cell_type": "code",
   "execution_count": null,
   "metadata": {},
   "outputs": [],
   "source": [
    "import hist\n",
    "\n",
    "isinstance(h.axes[0], hist.axis.Regular)"
   ]
  },
  {
   "cell_type": "markdown",
   "metadata": {},
   "source": [
    "## Numba: Hist"
   ]
  },
  {
   "cell_type": "markdown",
   "metadata": {},
   "source": [
    "To extend the Numba, we first need to create a Hist type `HistType` for `Hist`, and then teach Numba about our type inference additions:"
   ]
  },
  {
   "cell_type": "code",
   "execution_count": null,
   "metadata": {},
   "outputs": [],
   "source": [
    "from numba import types\n",
    "from numba.extending import typeof_impl, as_numba_type, type_callable\n",
    "\n",
    "# create Numba type\n",
    "class HistType(types.Type):\n",
    "    def __init__(self):\n",
    "        super().__init__(name=\"Hist\")\n",
    "\n",
    "\n",
    "hist_type = HistType()\n",
    "\n",
    "# infer values\n",
    "@typeof_impl.register(Hist)\n",
    "def typeof_index(val, c):\n",
    "    return hist_type\n",
    "\n",
    "\n",
    "# infer annotations\n",
    "as_numba_type.register(Hist, hist_type)\n",
    "\n",
    "# infer operations\n",
    "@type_callable(Hist)\n",
    "def type_hist(context):\n",
    "    def typer(axes):\n",
    "        for ax in axes:\n",
    "            #             if not (isinstance(ax, types of axis)):\n",
    "            return typer\n",
    "\n",
    "    return hist_type"
   ]
  },
  {
   "cell_type": "markdown",
   "metadata": {},
   "source": [
    "We also need to teach Numba how to actually generate native representation for the new operations:"
   ]
  },
  {
   "cell_type": "code",
   "execution_count": null,
   "metadata": {},
   "outputs": [],
   "source": [
    "from numba.core import cgutils\n",
    "from numba.extending import (\n",
    "    models,\n",
    "    register_model,\n",
    "    make_attribute_wrapper,\n",
    "    overload_attribute,\n",
    "    lower_builtin,\n",
    "    box,\n",
    "    unbox,\n",
    "    NativeValue,\n",
    ")\n",
    "\n",
    "# define data model\n",
    "@register_model(HistType)\n",
    "class HistModel(models.StructModel):\n",
    "    def __init__(self, dmm, fe_type):\n",
    "        members = [\n",
    "            #             (\"axes\", types of list of axis),\n",
    "        ]\n",
    "        models.StructModel.__init__(self, dmm, fe_type, members)\n",
    "\n",
    "\n",
    "# expose attributes, porperties and constructors\n",
    "make_attribute_wrapper(HistType, \"axes\", \"axes\")\n",
    "\n",
    "\n",
    "@lower_builtin(Regular, types.Integer, types.Float, types.Float)\n",
    "def impl_h(context, builder, sig, args):\n",
    "    axes = args\n",
    "    typ = sig.return_type\n",
    "    h = cgutils.create_struct_proxy(typ)(context, builder)\n",
    "    h.axes = axes\n",
    "    return reg._getvalue()\n",
    "\n",
    "\n",
    "# unbox and box\n",
    "@unbox(HistType)\n",
    "def unbox_h(typ, obj, c):\n",
    "    axes_obj = c.pyapi.object_getattr_string(obj, \"axes\")\n",
    "    h = cgutils.create_struct_proxy(typ)(c.context, c.builder)\n",
    "    #     h.axes = c.pyapi.float_as_double(axes_obj)\n",
    "    c.pyapi.decref(axes_obj)\n",
    "    is_error = cgutils.is_not_null(c.builder, c.pyapi.err_occurred())\n",
    "    return NativeValue(h._getvalue(), is_error=is_error)\n",
    "\n",
    "\n",
    "@box(HistType)\n",
    "def box_h(typ, val, c):\n",
    "    h = cgutils.create_struct_proxy(typ)(c.context, c.builder, value=val)\n",
    "    axes_obj = c.pyapi.float_from_double(h.axes)\n",
    "    class_obj = c.pyapi.unserialize(c.pyapi.serialize_object(Hist))\n",
    "    res = c.pyapi.call_function_objargs(class_obj, (axes_obj))\n",
    "    c.pyapi.decref(axes_obj)\n",
    "    c.pyapi.decref(class_obj)\n",
    "    return res"
   ]
  },
  {
   "cell_type": "code",
   "execution_count": null,
   "metadata": {},
   "outputs": [],
   "source": [
    "reg_ax = axis.Regular(10, 0, 1)\n",
    "\n",
    "\n",
    "@nb.jit\n",
    "def nb_create_Hist():\n",
    "    Hist(reg_ax)\n",
    "\n",
    "\n",
    "nb_create_Hist()"
   ]
  },
  {
   "cell_type": "code",
   "execution_count": null,
   "metadata": {},
   "outputs": [],
   "source": [
    "# Numba fill\n",
    "# nb_fill(h, array)\n",
    "# h"
   ]
  }
 ],
 "metadata": {
  "kernelspec": {
   "display_name": "hist",
   "language": "python",
   "name": "hist"
  },
  "language_info": {
   "codemirror_mode": {
    "name": "ipython",
    "version": 3
   },
   "file_extension": ".py",
   "mimetype": "text/x-python",
   "name": "python",
   "nbconvert_exporter": "python",
   "pygments_lexer": "ipython3",
   "version": "3.9.4"
  }
 },
 "nbformat": 4,
 "nbformat_minor": 4
}
